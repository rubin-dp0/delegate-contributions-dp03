{
 "cells": [
  {
   "cell_type": "markdown",
   "id": "47e1358a",
   "metadata": {},
   "source": [
    "# Notebook Title\n",
    "\n",
    "Contact author:\n",
    "\n",
    "Last verified to run on ???? with LSST Science Pipelines release version ???."
   ]
  },
  {
   "cell_type": "markdown",
   "id": "3598fd4f",
   "metadata": {},
   "source": [
    "## Introduction\n",
    "\n",
    "- *Use this space to provide a brief description of what people will learn from this notebook.*\n",
    "- *Include links to any information or precursor tutorials that would be useful.*\n",
    "- *Give credit to all individuals who have contributed to this notebook or whose work this notebook is based on, if applicable.*"
   ]
  },
  {
   "cell_type": "markdown",
   "id": "896eab59",
   "metadata": {},
   "source": [
    "## 1.0 Set Up"
   ]
  },
  {
   "cell_type": "code",
   "execution_count": null,
   "id": "dff335a8",
   "metadata": {},
   "outputs": [],
   "source": [
    "### Import packages:"
   ]
  }
 ],
 "metadata": {
  "kernelspec": {
   "display_name": "LSST",
   "language": "python",
   "name": "lsst"
  },
  "language_info": {
   "codemirror_mode": {
    "name": "ipython",
    "version": 3
   },
   "file_extension": ".py",
   "mimetype": "text/x-python",
   "name": "python",
   "nbconvert_exporter": "python",
   "pygments_lexer": "ipython3",
   "version": "3.8.8"
  }
 },
 "nbformat": 4,
 "nbformat_minor": 5
}
