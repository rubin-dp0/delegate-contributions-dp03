{
 "cells": [
  {
   "cell_type": "markdown",
   "id": "9b05e64e-f070-4add-9fdd-0c7fd9ce5eba",
   "metadata": {
    "execution": {
     "iopub.execute_input": "2024-06-02T06:05:03.997646Z",
     "iopub.status.busy": "2024-06-02T06:05:03.997294Z",
     "iopub.status.idle": "2024-06-02T06:05:04.003889Z",
     "shell.execute_reply": "2024-06-02T06:05:04.002934Z",
     "shell.execute_reply.started": "2024-06-02T06:05:03.997620Z"
    }
   },
   "source": [
    "<img align=\"left\" src = https://project.lsst.org/sites/default/files/Rubin-O-Logo_0.png width=250 style=\"padding: 10px\"> \n",
    "<br><b>DP0.3 Overview</b> <br>\n",
    "Contact author(s): Jake Kurlander<br>\n",
    "Last verified to run: 2024-06-01 <br>\n",
    "Container size: medium <br>\n",
    "Targeted learning level: beginner <br>"
   ]
  },
  {
   "cell_type": "markdown",
   "id": "06113a7c-9cc6-4a96-9ffb-557db4cb698f",
   "metadata": {
    "execution": {
     "iopub.execute_input": "2024-06-02T06:07:36.208933Z",
     "iopub.status.busy": "2024-06-02T06:07:36.208197Z",
     "iopub.status.idle": "2024-06-02T06:07:36.214127Z",
     "shell.execute_reply": "2024-06-02T06:07:36.213216Z",
     "shell.execute_reply.started": "2024-06-02T06:07:36.208905Z"
    }
   },
   "source": [
    "**Description:** Learn about the DP0.3 tables, practice querying Solar System object data, and querying an external service."
   ]
  },
  {
   "cell_type": "code",
   "execution_count": null,
   "id": "01b20143-0ff1-4bdf-85bd-1f45a6dd1c3d",
   "metadata": {
    "tags": []
   },
   "outputs": [],
   "source": [
    "import matplotlib.pyplot as plt\n",
    "import pandas as pd\n",
    "from lsst.rsp import get_tap_service"
   ]
  },
  {
   "cell_type": "markdown",
   "id": "9c5727ff-65ae-44b2-ad6a-830c53a9cc61",
   "metadata": {
    "execution": {
     "iopub.execute_input": "2024-06-13T19:37:13.846861Z",
     "iopub.status.busy": "2024-06-13T19:37:13.845782Z",
     "iopub.status.idle": "2024-06-13T19:37:13.849645Z",
     "shell.execute_reply": "2024-06-13T19:37:13.849090Z",
     "shell.execute_reply.started": "2024-06-13T19:37:13.846819Z"
    }
   },
   "source": [
    "# Introduction to the DP0.3 Tables\n",
    "\n",
    "We use 'ssotap', short for Solar System Object TAP, to query DP0.3. Let's use it to learn about the different DP0.3 tables! "
   ]
  },
  {
   "cell_type": "code",
   "execution_count": null,
   "id": "113da4cb-4797-462c-8133-4b36b8134c95",
   "metadata": {},
   "outputs": [],
   "source": [
    "service = get_tap_service(\"ssotap\")\n",
    "\n",
    "tables = service.search(\"SELECT table_name FROM tap_schema.tables\").to_table().to_pandas()\n",
    "table_names = tables['table_name'].values\n",
    "list(table_names)"
   ]
  },
  {
   "cell_type": "markdown",
   "id": "718e07ab-e472-443f-ab53-73eec360b5f5",
   "metadata": {},
   "source": [
    "There is a 10-year and 1-year version of each of the four DP0.3 tables: DiaSource, MPCORB, SSObject, and SSSource. We will use the 1-year versions in this notebook to keep querying times low -- the ten-year catalogs include about a half billion detections!"
   ]
  },
  {
   "cell_type": "markdown",
   "id": "332df29e-224b-43e3-896e-09ad002949e0",
   "metadata": {
    "execution": {
     "iopub.execute_input": "2024-06-14T16:31:49.363679Z",
     "iopub.status.busy": "2024-06-14T16:31:49.362684Z",
     "iopub.status.idle": "2024-06-14T16:31:49.368957Z",
     "shell.execute_reply": "2024-06-14T16:31:49.368114Z",
     "shell.execute_reply.started": "2024-06-14T16:31:49.363645Z"
    }
   },
   "source": [
    "<table ><tr><th><th> <td><h2> Per-Object </h2></td> <th> <td><h2> Per-detection </h2></td><tr><tr>\n",
    "<tr><th><h2>Rubin Solar System </h2><td><td> <h1>SSObject </h1> <td><td> <h1> SSSource </h1><td><tr>\n",
    "<tr><th><h2> Inherited </h2><td><td> <h1>MPCORB</h1><td><td> <h1>DiaSource</h1> <td><tr><table>"
   ]
  },
  {
   "cell_type": "markdown",
   "id": "9922877a-6cee-48f1-a888-eedb5a2ab5f7",
   "metadata": {
    "execution": {
     "iopub.execute_input": "2024-06-14T20:15:47.645446Z",
     "iopub.status.busy": "2024-06-14T20:15:47.644454Z",
     "iopub.status.idle": "2024-06-14T20:15:47.650857Z",
     "shell.execute_reply": "2024-06-14T20:15:47.649850Z",
     "shell.execute_reply.started": "2024-06-14T20:15:47.645416Z"
    }
   },
   "source": [
    "Now let's look at the contents of each table..."
   ]
  },
  {
   "cell_type": "code",
   "execution_count": null,
   "id": "3409a3ab-f87f-44b4-a48b-93a933cf189f",
   "metadata": {},
   "outputs": [],
   "source": [
    "table_names = ['MPCORB', 'SSObject', 'DiaSource', 'SSSource']\n",
    "\n",
    "for table_name in table_names:\n",
    "    search_result = service.search(f\"SELECT * FROM dp03_catalogs_1yr.{table_name} LIMIT 1\")\n",
    "    table_columns = list(search_result.to_table().columns)\n",
    "    print(table_name, ':', table_columns, '\\n\\n')"
   ]
  },
  {
   "cell_type": "markdown",
   "id": "5c9686ca-8c47-4763-8751-3bda2245b250",
   "metadata": {},
   "source": [
    "Descriptions of each column can be found in the DP0.3 schema browser: https://dm.lsst.org/sdm_schemas/browser/dp03.html.  Note that these do not perfectly represent the columns in Rubin data release tables. For example, while this DP0.3 includes 'truth' information (for example, DiaSource's 'decTrue' column which has the same values as 'dec' but without astrometric scatter), Rubin data will not have associated truth values. Also, the solar system schema is still being finalized (or at least was being finalized well after DP0.3's release). \n",
    "\n",
    "More DP0.3 documentation, including a list of known issues, can be found at https://dp0-3.lsst.io/index.html\n",
    "\n",
    "# An example query for each table"
   ]
  },
  {
   "cell_type": "markdown",
   "id": "a09299df-7c1a-426b-8791-f253b6095db4",
   "metadata": {
    "execution": {
     "iopub.execute_input": "2024-06-15T07:29:05.946943Z",
     "iopub.status.busy": "2024-06-15T07:29:05.945944Z",
     "iopub.status.idle": "2024-06-15T07:29:05.950058Z",
     "shell.execute_reply": "2024-06-15T07:29:05.949283Z",
     "shell.execute_reply.started": "2024-06-15T07:29:05.946917Z"
    }
   },
   "source": [
    "## MPCORB"
   ]
  },
  {
   "cell_type": "code",
   "execution_count": null,
   "id": "64695637-3659-4e1f-b6a2-1ff5f32d67e3",
   "metadata": {},
   "outputs": [],
   "source": [
    "closest_objects = service.search(\"SELECT mpcDesignation,q,e,incl FROM dp03_catalogs_1yr.mpcorb order by q LIMIT 5\").to_table().to_pandas()\n",
    "farthest_objects = service.search(\"SELECT mpcDesignation,q,e,incl FROM dp03_catalogs_1yr.mpcorb order by q DESC LIMIT 5\").to_table().to_pandas()\n"
   ]
  },
  {
   "cell_type": "code",
   "execution_count": null,
   "id": "56752242-3e69-4e07-a677-aa3b6de1eedd",
   "metadata": {},
   "outputs": [],
   "source": [
    "closest_objects"
   ]
  },
  {
   "cell_type": "code",
   "execution_count": null,
   "id": "3f3a51bf-c999-464d-80f5-045e44eca222",
   "metadata": {},
   "outputs": [],
   "source": [
    "farthest_objects"
   ]
  },
  {
   "cell_type": "markdown",
   "id": "d0d7e439-5f72-4a54-8c1c-956ba2a9c603",
   "metadata": {},
   "source": [
    "We see that the lowest-perihelion objects all have designations beginning with 'S0' -- these objects are synthetic NEOs from the Pan-STARRS synthetic solar system model (S3M). These closest objects have pericenter smaller than a solar radius, so if they were real, they would collide with the Sun within an orbit, which shows us that our NEO model (S3M) extends too close to the Sun. \n",
    "\n",
    "The highest-pericenter objects each have a Minor Planet Center style designation -- these are real, known objects. It's likely that Rubin will discover more-distant and higher-pericenter objects than are currently known, so this shows us that our TNO model (also S3M) doesn't extend far enough out. \n",
    "\n",
    "The 14 million objects simulatd for DP0.3, only a few million of which are actually detected by Rubin, come from several synthetic populations. In addition to all known real solar system objects (as of summer 2023) and S3M, we also include a Centaur model (names begin with 'CEN'), a long-period comet population (names beginning with 'LPC'), and an interstellar object model (names beginning with 'ISO'). The long-period comet and interstellar object models are 'unnormalized', so the number of discovered objects in DP0.3 is not meaningful. The other populations are normalized, though issues with color choices mean that discovery predictions are inaccurate to a factor of 2. "
   ]
  },
  {
   "cell_type": "markdown",
   "id": "5721081a-73ce-4a74-96c6-92b98c3c8e63",
   "metadata": {
    "execution": {
     "iopub.execute_input": "2024-06-15T07:40:44.045706Z",
     "iopub.status.busy": "2024-06-15T07:40:44.044667Z",
     "iopub.status.idle": "2024-06-15T07:40:44.048360Z",
     "shell.execute_reply": "2024-06-15T07:40:44.047845Z",
     "shell.execute_reply.started": "2024-06-15T07:40:44.045683Z"
    }
   },
   "source": [
    "## SSSource"
   ]
  },
  {
   "cell_type": "code",
   "execution_count": null,
   "id": "a7eb3f9e-076a-4cfd-866f-cc622a1659c8",
   "metadata": {},
   "outputs": [],
   "source": [
    "highest_phases = service.search(\"SELECT phaseAngle FROM dp03_catalogs_1yr.ssSource order by phaseAngle DESC LIMIT 5\").to_table().to_pandas()\n",
    "highest_phases\n"
   ]
  },
  {
   "cell_type": "markdown",
   "id": "6ccdd8ac-4e4b-4735-9f95-1e912c060c25",
   "metadata": {},
   "source": [
    "## SSObject"
   ]
  },
  {
   "cell_type": "code",
   "execution_count": null,
   "id": "5136ab07-9b2b-47bd-a0f3-c2311be40717",
   "metadata": {},
   "outputs": [],
   "source": [
    "most_r_detections = service.search(\"select r_Ndata,r_H from dp03_catalogs_1yr.ssObject ORDER BY r_Ndata DESC LIMIT 5\").to_table().to_pandas()\n",
    "most_r_detections"
   ]
  },
  {
   "cell_type": "markdown",
   "id": "13209c37-02ef-4e2f-809a-828e09dd9101",
   "metadata": {
    "execution": {
     "iopub.execute_input": "2024-06-15T17:34:34.844474Z",
     "iopub.status.busy": "2024-06-15T17:34:34.843421Z",
     "iopub.status.idle": "2024-06-15T17:34:34.847181Z",
     "shell.execute_reply": "2024-06-15T17:34:34.846576Z",
     "shell.execute_reply.started": "2024-06-15T17:34:34.844450Z"
    }
   },
   "source": [
    "## DiaSource\n",
    "\n",
    "Sometimes we don't need the full table, and can get the information we want with just a small uniform sample of rows. For example, if we wanted to quickly learn about the distribution of detections by band and magnitude, we could make do with just a small fraction of the total table. We can take advantage of the fact that SSObjectID and DiaSourceID are randomly generated values between -2^63 and 2^63 in order to take uniformly-sampled slices of any table of any size..."
   ]
  },
  {
   "cell_type": "code",
   "execution_count": null,
   "id": "0e39475c-a58c-4863-ab2e-b05a793caeaa",
   "metadata": {},
   "outputs": [],
   "source": [
    "fraction_of_table = 0.0025\n",
    "almost_2_63 = int(2 ** 63 * (1-fraction_of_table * 2))\n",
    "\n",
    "results = service.search(\"SELECT band,mag FROM dp03_catalogs_1yr.DiaSource \"+\n",
    "                        f\"WHERE diaSourceId > {almost_2_63}\")\n",
    "\n",
    "results = results.to_table().to_pandas()\n",
    "print(len(results))\n"
   ]
  },
  {
   "cell_type": "code",
   "execution_count": null,
   "id": "2e863952-3abb-40d8-b55d-11d4f9c07c22",
   "metadata": {},
   "outputs": [],
   "source": [
    "for g in results.groupby('band'):\n",
    "    plt.hist(g[1]['mag'], label=g[1]['band'].values[0], range=[19, 26], histtype='step', bins=40)\n",
    "    \n",
    "plt.legend()\n",
    "plt.show()"
   ]
  },
  {
   "cell_type": "markdown",
   "id": "18efc782-d128-452d-88ea-1ae7c7a6f725",
   "metadata": {
    "tags": []
   },
   "source": [
    "# Tying all tables together: ssObjectID\n",
    "\n",
    "All four solar system tables share an index, ssObjectID, which is used to connect the tables together. Since relevant data is split across the four tables, we will often want to join tables together and work on combined data. Given objects' MPC designations, we can get their SSObjectIDs from MPCORB. Let's investigate three famous objects: Bennu (1999 RQ36), Holman (1979 HP), and Eris (2003 UB313)."
   ]
  },
  {
   "cell_type": "code",
   "execution_count": null,
   "id": "ddb3d125-dbb0-4f34-be1f-381c3389b8ab",
   "metadata": {},
   "outputs": [],
   "source": [
    "mpcorb_results = service.search(\"SELECT * FROM dp03_catalogs_10yr.mpcorb WHERE mpcDesignation in ('1999 RQ36', '1979 HP', '2003 UB313')\")\n",
    "\n",
    "mpcorb_results = mpcorb_results.to_table().to_pandas()\n",
    "print(len(mpcorb_results))\n"
   ]
  },
  {
   "cell_type": "code",
   "execution_count": null,
   "id": "2d1d3669-e255-4f17-95fb-0f320fb38355",
   "metadata": {},
   "outputs": [],
   "source": [
    "ssObjectId_strings = str(tuple(mpcorb_results['ssObjectId'].values.astype(str)))\n",
    "ssObjectId_strings\n"
   ]
  },
  {
   "cell_type": "code",
   "execution_count": null,
   "id": "a232c5e5-76dc-4355-a6a6-e6b419d53cd8",
   "metadata": {},
   "outputs": [],
   "source": [
    "results = service.search(\"SELECT * FROM dp03_catalogs_10yr.diaSource WHERE ssObjectID in \" + ssObjectId_strings).to_table().to_pandas()\n"
   ]
  },
  {
   "cell_type": "code",
   "execution_count": null,
   "id": "ea7e6985-eec8-4302-b76b-4f33a3d9affe",
   "metadata": {},
   "outputs": [],
   "source": [
    "results_groups = results.groupby(\"nameTrue\")\n",
    "for object_name, object_data in results_groups:\n",
    "    print(object_name)"
   ]
  },
  {
   "cell_type": "code",
   "execution_count": null,
   "id": "0fbef03a-b84c-4ff9-81dc-9ae5c942472e",
   "metadata": {},
   "outputs": [],
   "source": [
    "for ObjID, dp03_detections in results_groups:\n",
    "\n",
    "    fig, axes = plt.subplots(1, 3, figsize=(16, 5))  # Create a figure with 3 subplots in a single row\n",
    "\n",
    "    axes[0].scatter(dp03_detections['midPointMjdTai'], dp03_detections['ra'])\n",
    "    axes[0].set_title(f\"{ObjID}: RA over time\")\n",
    "    axes[0].set_xlabel('MJD')\n",
    "    axes[0].set_ylabel('RA (deg)')\n",
    "    \n",
    "    # Second subplot\n",
    "    axes[1].scatter(dp03_detections['midPointMjdTai'], dp03_detections['dec'])\n",
    "    axes[1].set_title(f\"{ObjID}: Dec over time\")\n",
    "    axes[1].set_xlabel('MJD')\n",
    "    axes[1].set_ylabel('Dec (deg)')\n",
    "    \n",
    "    # Third subplot\n",
    "    axes[2].scatter(dp03_detections['ra'], dp03_detections['dec'])\n",
    "    axes[2].set_title(f\"{ObjID}: RA vs Dec\")\n",
    "    axes[2].set_xlabel('RA (deg)')\n",
    "    axes[2].set_ylabel('Dec (deg)')\n",
    "    \n",
    "    plt.tight_layout()  # Adjust subplots to fit into the figure area.\n",
    "    plt.show()\n",
    "    print('\\n\\n\\n')"
   ]
  },
  {
   "cell_type": "code",
   "execution_count": null,
   "id": "115972d4-6d3a-4699-8b1f-6321ae7f53c8",
   "metadata": {},
   "outputs": [],
   "source": [
    "mpcorb_results[['mpcDesignation', 'q']]"
   ]
  },
  {
   "cell_type": "markdown",
   "id": "534f9f50-c538-4cb2-89e8-cc7281ceaa90",
   "metadata": {},
   "source": [
    "# Plot Comparisons"
   ]
  },
  {
   "cell_type": "code",
   "execution_count": null,
   "id": "1e38f5da-560e-495c-917e-10039dd817bf",
   "metadata": {},
   "outputs": [],
   "source": [
    "from lsst.rsp import get_tap_service\n",
    "from astroquery.jplhorizons import Horizons\n",
    "\n",
    "#Plot ra and decs of DP0.3 detections, as well as Horizons \n",
    "def scatter_and_plot_skypath(dp03_ra, dp03_dec, horizons_same_time_ra, horizons_same_time_dec, \n",
    "                             horizons_uniform_time_ra, horizons_uniform_time_dec, ObjID): \n",
    "    plt.scatter(dp03_ra, dp03_dec, label='DP0.3 positions')\n",
    "    plt.plot(horizons_uniform_time_ra, horizons_uniform_time_dec, label='Horizons path')\n",
    "    plt.title(ObjID + ' skypath')\n",
    "    plt.scatter(horizons_same_time_ra, horizons_same_time_dec, s=7, color='yellow', label='Horizons positions')\n",
    "    plt.xlabel('RA (deg)')\n",
    "    plt.ylabel('Dec (deg)')\n",
    "    plt.legend()\n",
    "    plt.show()\n",
    "\n",
    "\n",
    "def scatter_differences(dp03_ra, dp03_dec, horizons_same_time_ra, horizons_same_time_dec, mjds, ObjID):\n",
    "    plt.title(ObjID + ' DP0.3-Horizons Disagreement')\n",
    "    plt.scatter((horizons_same_time_ra-dp03_ra) * 3600, (horizons_same_time_dec-dp03_dec) * 3600)\n",
    "    plt.xlabel(\"RA disagreement (arcsec)\")\n",
    "    plt.ylabel(\"Dec disagreement (arcsec)\")\n",
    "    plt.show()\n",
    "\n",
    "def scatter_bands_V(dp03_mjd, Horizons_V_same_time, dp03_detections, ObjID):\n",
    "    plt.plot(dp03_mjd, Horizons_V_same_time, label='Horizons V magnitude')\n",
    "    for band in 'ugrizy':\n",
    "        banded_dp03 = dp03_detections[dp03_detections['band'] == band]\n",
    "        banded_horizons = Horizons_V_same_time[dp03_detections['band'] == band]\n",
    "        if len(banded_dp03) == 0:\n",
    "            continue\n",
    "        color_offset = np.mean(banded_dp03['mag'].values - banded_horizons)\n",
    "        plt.scatter(banded_dp03['midPointMjdTai'], banded_dp03['mag'] - color_offset, label='corrected DP0.3 ' + band + ' magnitude')\n",
    "    plt.legend()\n",
    "    plt.xlabel('MJD')\n",
    "    plt.ylabel('Magnitude')\n",
    "    plt.title(ObjID + ' banded magnitudes')\n",
    "    plt.show()"
   ]
  },
  {
   "cell_type": "markdown",
   "id": "d91e9118-b309-4345-bf12-241afab8b87c",
   "metadata": {
    "execution": {
     "iopub.execute_input": "2024-06-07T14:33:19.487595Z",
     "iopub.status.busy": "2024-06-07T14:33:19.486848Z",
     "iopub.status.idle": "2024-06-07T14:33:19.490656Z",
     "shell.execute_reply": "2024-06-07T14:33:19.490007Z",
     "shell.execute_reply.started": "2024-06-07T14:33:19.487571Z"
    }
   },
   "source": [
    "# Get Horizons data for each object, make plots"
   ]
  },
  {
   "cell_type": "code",
   "execution_count": null,
   "id": "0febce13-4ea0-4362-baf7-de7ba20d2198",
   "metadata": {},
   "outputs": [],
   "source": [
    "\n",
    "\n",
    "for ObjID, dp03_detections in results_groups:\n",
    "    \n",
    "    duration = 150\n",
    "    t0 = min(dp03_detections['midPointMjdTai'])\n",
    "    uniform_times = np.linspace(t0, t0+duration, 50)\n",
    "    \n",
    "    dp03_detections = dp03_detections[(dp03_detections['midPointMjdTai'] - t0)  < duration]\n",
    "    dp03_detections = dp03_detections.sort_values('midPointMjdTai')\n",
    "\n",
    "    dp03_ra, dp03_dec, dp03_mjd = dp03_detections[['ra', 'dec', 'midPointMjdTai']].values.T\n",
    "    \n",
    "    Horizons_eph_same_time = Horizons(id=ObjID, location='X05', epochs=dp03_mjd + 2400000.5).ephemerides()\n",
    "    Horizons_ra_same_time = Horizons_eph_same_time['RA'].data.data\n",
    "    Horizons_dec_same_time = Horizons_eph_same_time['DEC'].data.data\n",
    "    Horizons_V_same_time = Horizons_eph_same_time['V'].data.data\n",
    "\n",
    "    \n",
    "    Horizons_eph_uniform_time = Horizons(id=ObjID, location='X05', epochs=uniform_times).ephemerides()\n",
    "    Horizons_ra_uniform_time = Horizons_eph_uniform_time['RA'].data.data\n",
    "    Horizons_dec_uniform_time = Horizons_eph_uniform_time['DEC'].data.data\n",
    "\n",
    "    scatter_and_plot_skypath(dp03_ra, dp03_dec, Horizons_ra_same_time, Horizons_dec_same_time,\n",
    "            Horizons_ra_uniform_time, Horizons_dec_uniform_time, ObjID)\n",
    "    \n",
    "    scatter_differences(dp03_ra, dp03_dec, Horizons_ra_same_time, Horizons_dec_same_time,\n",
    "            dp03_detections['midPointMjdTai'], ObjID)\n",
    "\n",
    "    scatter_bands_V(dp03_mjd, Horizons_V_same_time, dp03_detections, ObjID)\n",
    "    print('\\n' * 20)"
   ]
  }
 ],
 "metadata": {
  "kernelspec": {
   "display_name": "LSST",
   "language": "python",
   "name": "lsst"
  },
  "language_info": {
   "codemirror_mode": {
    "name": "ipython",
    "version": 3
   },
   "file_extension": ".py",
   "mimetype": "text/x-python",
   "name": "python",
   "nbconvert_exporter": "python",
   "pygments_lexer": "ipython3",
   "version": "3.11.7"
  }
 },
 "nbformat": 4,
 "nbformat_minor": 5
}
